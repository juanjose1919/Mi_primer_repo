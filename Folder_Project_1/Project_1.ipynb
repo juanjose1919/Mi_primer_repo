{
  "nbformat": 4,
  "nbformat_minor": 0,
  "metadata": {
    "colab": {
      "name": "Project 1.ipynb",
      "provenance": [],
      "include_colab_link": true
    },
    "kernelspec": {
      "name": "python3",
      "display_name": "Python 3"
    },
    "language_info": {
      "name": "python"
    }
  },
  "cells": [
    {
      "cell_type": "markdown",
      "metadata": {
        "id": "view-in-github",
        "colab_type": "text"
      },
      "source": [
        "<a href=\"https://colab.research.google.com/github/juanjose1919/Mi_primer_repo/blob/main/Folder_Project_1/Project_1.ipynb\" target=\"_parent\"><img src=\"https://colab.research.google.com/assets/colab-badge.svg\" alt=\"Open In Colab\"/></a>"
      ]
    },
    {
      "cell_type": "markdown",
      "source": [
        "Construya un objeto que permita manipular una tabla de datos haciendo uso ÚNICAMENTE de python base. Esta tabla de datos viene como una lista de listas. El objeto debe poseer los siguientes atributos:\n",
        "\n",
        "Tamaño de la tabla (número de filas, número de columnas).\n",
        "Nombres de las columnas\n",
        "Tipos de datos de cada columna\n",
        "Y los siguientes métodos:\n",
        "\n",
        "Verificación de que se tenga el mismo número de datos en cada fila.\n",
        "Acceder a una columna\n",
        "Acceder a una fila\n",
        "Agregar una columna\n",
        "Eliminar una columna\n",
        "Agregar una fila\n",
        "Eliminar una fila\n",
        "Operaciones con un escalar\n",
        "Operaciones aritméticas básicas entre columnas\n",
        "Ordenar a partir de alguna columna\n",
        "Imprimir los datos"
      ],
      "metadata": {
        "id": "cNxEwwyozBVh"
      }
    },
    {
      "cell_type": "code",
      "execution_count": null,
      "metadata": {
        "id": "5BDWYdoUy9wk"
      },
      "outputs": [],
      "source": [
        "\n"
      ]
    },
    {
      "cell_type": "code",
      "source": [
        ""
      ],
      "metadata": {
        "id": "ZBujKh0EzCbL"
      },
      "execution_count": null,
      "outputs": []
    },
    {
      "cell_type": "code",
      "source": [
        ""
      ],
      "metadata": {
        "id": "RsEmeWbTzCW0"
      },
      "execution_count": null,
      "outputs": []
    }
  ]
}